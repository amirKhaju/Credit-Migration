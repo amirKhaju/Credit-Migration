{
 "cells": [
  {
   "cell_type": "markdown",
   "metadata": {},
   "source": [
    "# Mathematical Engineering - Financial Engineering, FY 2024-2025\n",
    "# Risk Management - Exercise 4: Credit Portfolio Single Factor Model"
   ]
  },
  {
   "cell_type": "code",
   "metadata": {
    "ExecuteTime": {
     "end_time": "2025-05-19T01:03:58.954021Z",
     "start_time": "2025-05-19T01:03:56.116812Z"
    }
   },
   "source": [
    "# Importing the libraries\n",
    "\n",
    "%reset -f\n",
    "import os\n",
    "import pickle\n",
    "import numpy as np\n",
    "import pandas as pd\n",
    "from pathlib import Path\n",
    "\n",
    "\n",
    "from scipy.stats import norm\n",
    "\n",
    "from boot import bootstrap\n",
    "from ex1_utilities import (\n",
    "    business_date_offset,\n",
    "    getDiscount\n",
    ")\n",
    "from ex3_utilities import (\n",
    "    hs_var_es,\n",
    "    compute_VaR_for_rho\n",
    ")"
   ],
   "outputs": [],
   "execution_count": 1
  },
  {
   "metadata": {
    "ExecuteTime": {
     "end_time": "2025-05-19T01:03:59.050302Z",
     "start_time": "2025-05-19T01:03:58.969864Z"
    }
   },
   "cell_type": "code",
   "source": [
    "\n",
    "def extract_data(file_path):\n",
    "    df_cleaned = pd.read_excel(file_path, sheet_name=\"Sheet1\")\n",
    "\n",
    "    # Extraction of dates\n",
    "\n",
    "    settlement_date = df_cleaned.iloc[6, 4]\n",
    "    depos_dates = df_cleaned.iloc[9:15, 3].tolist()\n",
    "    futures_dates = df_cleaned.iloc[10:19, 16:18].values.tolist()\n",
    "    swaps_dates = df_cleaned.iloc[37:54, 3].tolist()\n",
    "\n",
    "    # Extraction of deposit rates\n",
    "    depos_rates = df_cleaned.iloc[9:15, 7:9].values\n",
    "    depos_rates = np.array(depos_rates, dtype=np.float64) / 100  # Conversion to float\n",
    "\n",
    "    # Extraction of futures rates\n",
    "    futures_rates = df_cleaned.iloc[26:35, 7:9].values\n",
    "    futures_rates = np.array(futures_rates, dtype=np.float64) / 100  # Conversion to float\n",
    "\n",
    "    # Extraction of swap rates\n",
    "    swaps_rates = df_cleaned.iloc[37:54, 7:9].values\n",
    "    swaps_rates = np.array(swaps_rates, dtype=np.float64) / 100  # Conversion to float\n",
    "\n",
    "    return {\n",
    "        \"settlement_date\": settlement_date,\n",
    "        \"depos_dates\": depos_dates,\n",
    "        \"futures_dates\": futures_dates,\n",
    "        \"swaps_dates\": swaps_dates,\n",
    "        \"depos_rates\": depos_rates,\n",
    "        \"futures_rates\": futures_rates,\n",
    "        \"swaps_rates\": swaps_rates\n",
    "    }\n",
    "\n",
    "# Extract from file excel\n",
    "file_path = \"MktData_CurveBootstrap.xls\"\n",
    "data = extract_data(file_path)\n",
    "\n",
    "\n",
    "#  Create the `dates_set` dictionary containing the extracted dates\n",
    "dates_set = {\n",
    "    'settlement': data['settlement_date'],\n",
    "    'depos': data['depos_dates'],\n",
    "    'futures': data['futures_dates'],\n",
    "    'swaps': data['swaps_dates']\n",
    "}\n",
    "# Create the `rates_set` dictionary containing the extracted rates\n",
    "rates_set = {\n",
    "    'depos': data['depos_rates'],\n",
    "    'futures': data['futures_rates'],\n",
    "    'swaps': data['swaps_rates']\n",
    "}\n",
    "\n",
    "# Calculate dates and discounts with bootstrap\n",
    "dates, discounts = bootstrap(dates_set, rates_set)\n",
    "\n",
    "today = pd.to_datetime('2023-02-02')"
   ],
   "outputs": [],
   "execution_count": 2
  },
  {
   "cell_type": "code",
   "metadata": {
    "ExecuteTime": {
     "end_time": "2025-05-19T01:03:59.472822Z",
     "start_time": "2025-05-19T01:03:59.469301Z"
    }
   },
   "source": "",
   "outputs": [],
   "execution_count": null
  },
  {
   "metadata": {
    "ExecuteTime": {
     "end_time": "2025-05-19T01:03:59.535699Z",
     "start_time": "2025-05-19T01:03:59.508441Z"
    }
   },
   "cell_type": "code",
   "source": [
    "# Parameters\n",
    "issuers_num = 100  # Number of bonds in the portfolio\n",
    "maturity = 2  # Maturity in years\n",
    "\n",
    "rating = \"IG\"  # Initial credit rating\n",
    "\n",
    "# Compute bond expiry date\n",
    "expiry = business_date_offset(today, year_offset=maturity)\n",
    "# Generate payment dates\n",
    "datepag=[business_date_offset(today, month_offset=6*i) for i in range(0,5)]\n",
    "\n",
    "transition_matrix = pd.DataFrame(\n",
    "    [[0.73, 0.25, 0.02], [0.35, 0.6, 0.05], [0, 0, 1]],\n",
    "    index=[\"IG\", \"HY\", \"Def\"],\n",
    "    columns=[\"IG\", \"HY\", \"Def\"],\n",
    ")\n",
    "transition_matrix2y=transition_matrix @ transition_matrix\n",
    "print(transition_matrix)\n",
    "\n",
    "recovery_rate = 0.4     # Recovery rate in the event of default\n",
    "face_value = 1_000_000  # Face value of each bond\n",
    "rho = 0.15\n",
    "\n",
    "mc_simulations = 1_000_000  # Number of Monte Carlo simulation scenarios"
   ],
   "outputs": [
    {
     "name": "stdout",
     "output_type": "stream",
     "text": [
      "       IG    HY   Def\n",
      "IG   0.73  0.25  0.02\n",
      "HY   0.35  0.60  0.05\n",
      "Def  0.00  0.00  1.00\n"
     ]
    }
   ],
   "execution_count": 3
  },
  {
   "cell_type": "code",
   "metadata": {
    "ExecuteTime": {
     "end_time": "2025-05-19T01:03:59.725028Z",
     "start_time": "2025-05-19T01:03:59.698757Z"
    }
   },
   "source": [
    "# Q1-Q3: Portfolio MtM Evaluate the present value in a years' time under various scenarios\n",
    "\n",
    "# Compute discount factors for the payment dates of the bond\n",
    "df_expiry = getDiscount(dates, discounts,datepag)\n",
    "\n",
    "# Extract the discount factor at the bond's final maturity\n",
    "discexp=df_expiry[-1]\n",
    "print(df_expiry)"
   ],
   "outputs": [
    {
     "name": "stdout",
     "output_type": "stream",
     "text": [
      "[1.         0.98559455 0.96830131 0.9526023  0.93889301]\n"
     ]
    }
   ],
   "execution_count": 4
  },
  {
   "metadata": {
    "ExecuteTime": {
     "end_time": "2025-05-19T01:03:59.874697Z",
     "start_time": "2025-05-19T01:03:59.847478Z"
    }
   },
   "cell_type": "code",
   "source": [
    "# We consider the default at the midpoint\n",
    "# Compute the forward discount factor from 1Y to 2Y\n",
    "frwdisc1y2y=df_expiry[4]/df_expiry[2]\n",
    "# Compute the 0-0.5-year forward discount factor\n",
    "frwdis6mesi=df_expiry[1]\n",
    "# Compute the 1-year discount factor considering default probability and recovery\n",
    "df_1y_def =(1-transition_matrix.loc[\"IG\", \"Def\"])*df_expiry[2]+transition_matrix.loc[\"IG\", \"Def\"]*df_expiry[1]*recovery_rate\n",
    "\n",
    "# Compute DF(1y→2y | IG)\n",
    "df_1y2ydef=(1-transition_matrix.loc[\"IG\", \"Def\"])*frwdisc1y2y+transition_matrix.loc[\"IG\", \"Def\"]*df_expiry[3]/df_expiry[2]*recovery_rate\n",
    "\n",
    "# Compute DF(1y→2y | HY)\n",
    "df_1y2yHY=(1-transition_matrix.loc[\"HY\", \"Def\"])*frwdisc1y2y+transition_matrix.loc[\"HY\", \"Def\"]*df_expiry[3]/df_expiry[2]*recovery_rate\n",
    "\n",
    "# Compute the expected discount factor at 2y, taking into account all rating transitions from IG\n",
    "df_2y_def = (\n",
    "        transition_matrix.loc[\"IG\", \"IG\"]*df_expiry[2]*df_1y2ydef +\n",
    "        transition_matrix.loc[\"IG\", \"HY\"]*df_expiry[2]*df_1y2yHY +\n",
    "        transition_matrix.loc[\"IG\", \"Def\"]*df_expiry[1]*recovery_rate\n",
    ")\n",
    "\n",
    "# -- Forward default probabilities between year 1 and year 2 --\n",
    "# Compute survival probabilities for IG\n",
    "survival_prob_1y =1-transition_matrix.loc[\"IG\", \"Def\"]\n",
    "survival_prob_2y =1-transition_matrix2y.loc[\"IG\", \"Def\"]\n",
    "# Compute P(def 1-2 | alive in 0-1) for IG\n",
    "forwprob=(survival_prob_1y-survival_prob_2y)/survival_prob_1y\n",
    "# Compute survival probabilities for HY\n",
    "survival_prob_1yhy =1-transition_matrix.loc[\"HY\", \"Def\"]\n",
    "survival_prob_2yhy =1-transition_matrix2y.loc[\"HY\", \"Def\"]\n",
    "# Compute P(def 1-2 | alive in 0-1) for HY\n",
    "forwprobhy=(survival_prob_1yhy-survival_prob_2yhy)/survival_prob_1yhy\n",
    "\n",
    "# --- Forward bond prices and portfolio mark-to-market ---\n",
    "# Forward price of a 1y bond (from today t=0), assuming issuer is IG at t=1\n",
    "fwd_price_ig =df_1y2ydef*face_value\n",
    "# Forward price of a 1y bond, assuming the issuer is HY at t=1\n",
    "fwd_price_hy =df_1y2yHY*face_value\n",
    "# Current mark-to-market of a single 2y bond, accounting for credit risk and transitions\n",
    "bond_mtm=df_2y_def*face_value\n",
    "# Mark-to-market of the entire portfolio (100 issuers)\n",
    "ptf_mtm =bond_mtm*issuers_num\n",
    "\n",
    "print(f\"Forward price Investment Grade €{fwd_price_ig:,.2f}\")\n",
    "print(f\"Forward price High Yield €{fwd_price_hy:,.2f}\")\n",
    "\n",
    "print(f\"Portfolio MtM: €{ptf_mtm:,.2f}\")\n"
   ],
   "outputs": [
    {
     "name": "stdout",
     "output_type": "stream",
     "text": [
      "Forward price Investment Grade €958,106.69\n",
      "Forward price High Yield €940,823.27\n",
      "Portfolio MtM: €91,288,211.35\n"
     ]
    }
   ],
   "execution_count": 5
  },
  {
   "metadata": {
    "ExecuteTime": {
     "end_time": "2025-05-19T01:03:59.940164Z",
     "start_time": "2025-05-19T01:03:59.928023Z"
    }
   },
   "cell_type": "code",
   "source": "",
   "outputs": [],
   "execution_count": null
  },
  {
   "cell_type": "code",
   "metadata": {
    "ExecuteTime": {
     "end_time": "2025-05-19T01:04:11.133334Z",
     "start_time": "2025-05-19T01:04:00.061115Z"
    }
   },
   "source": [
    "# Q4: Monte Carlo simulation\n",
    "# Barriers and PnL for a single IG issuer\n",
    "\n",
    "seed=0      # Set random seed\n",
    "\n",
    "# Compute VaR considering only default risk\n",
    "VaRonlydef, _, _, loss  = compute_VaR_for_rho(\n",
    "    rho=rho,\n",
    "    transition_matrix=transition_matrix,\n",
    "    df_expiry=df_expiry[2],\n",
    "    recovery_rate=recovery_rate,\n",
    "    frwdis6mesi=frwdis6mesi,\n",
    "    df_1y2ydef=df_1y2ydef,\n",
    "    df_1y2yHY=df_1y2yHY,\n",
    "    bond_mtm=bond_mtm,\n",
    "    face_value=face_value,\n",
    "    issuers_num=issuers_num,\n",
    "    mc_simulations=mc_simulations,\n",
    "    only_default=True,\n",
    "    seed=seed\n",
    ")\n",
    "# Compute VaR including both default and downgrade (migration) risk\n",
    "VaRex4d, avgdefault,avgdowngrade, _  = compute_VaR_for_rho(\n",
    "    rho=rho,\n",
    "    transition_matrix=transition_matrix,\n",
    "    df_expiry=df_expiry[2],\n",
    "    recovery_rate=recovery_rate,\n",
    "    frwdis6mesi=frwdis6mesi,\n",
    "    df_1y2ydef=df_1y2ydef,\n",
    "    df_1y2yHY=df_1y2yHY,\n",
    "    bond_mtm=bond_mtm,\n",
    "    face_value=face_value,\n",
    "    issuers_num=issuers_num,\n",
    "    mc_simulations=mc_simulations,\n",
    "    only_default=False,\n",
    "    seed=seed\n",
    ")\n",
    "\n",
    "print(f\"Average default: {avgdefault}\")\n",
    "print(f\"Average downgrade: {avgdowngrade}\")\n",
    "\n",
    "print(f\"VaR only defaults: €{VaRonlydef:,.2f}\")\n",
    "\n",
    "print(f\"VaR with defaults and downgrades: €{VaRex4d:,.2f}\")\n",
    "\n"
   ],
   "outputs": [
    {
     "name": "stdout",
     "output_type": "stream",
     "text": [
      "Average default: 2.001184\n",
      "Average downgrade: 24.989382\n",
      "VaR only defaults: €5,232,414.98\n",
      "VaR with defaults and downgrades: €6,062,019.36\n"
     ]
    }
   ],
   "execution_count": 6
  },
  {
   "metadata": {
    "ExecuteTime": {
     "end_time": "2025-05-19T01:04:15.750025Z",
     "start_time": "2025-05-19T01:04:11.193258Z"
    }
   },
   "cell_type": "code",
   "source": [
    "# Q5: Monte Carlo Simulation with 0% correlation\n",
    "\n",
    "VaRex5  = compute_VaR_for_rho(\n",
    "    rho=0,\n",
    "    transition_matrix=transition_matrix,\n",
    "    df_expiry=df_expiry[2],\n",
    "    recovery_rate=recovery_rate,\n",
    "    frwdis6mesi=frwdis6mesi,\n",
    "    df_1y2ydef=df_1y2ydef,\n",
    "    df_1y2yHY=df_1y2yHY,\n",
    "    bond_mtm=bond_mtm,\n",
    "    face_value=face_value,\n",
    "    issuers_num=issuers_num,\n",
    "    mc_simulations=mc_simulations,\n",
    "    only_default=False,\n",
    "    seed=seed\n",
    ")[0]\n",
    "\n",
    "print(f\"VaR with defaults and downgrades: with 0 correlation : €{VaRex5:,.2f}\")\n"
   ],
   "outputs": [
    {
     "name": "stdout",
     "output_type": "stream",
     "text": [
      "VaR with defaults and downgrades: with 0 correlation : €2,264,003.92\n"
     ]
    }
   ],
   "execution_count": 7
  },
  {
   "metadata": {
    "ExecuteTime": {
     "end_time": "2025-05-19T01:04:20.843927Z",
     "start_time": "2025-05-19T01:04:15.832997Z"
    }
   },
   "cell_type": "code",
   "source": [
    "# Monte Carlo Simulation with 30% correlation\n",
    "\n",
    "VaRex5b = compute_VaR_for_rho(\n",
    "    rho=0.3,\n",
    "    transition_matrix=transition_matrix,\n",
    "    df_expiry=df_expiry[2],\n",
    "    recovery_rate=recovery_rate,\n",
    "    frwdis6mesi=frwdis6mesi,\n",
    "    df_1y2ydef=df_1y2ydef,\n",
    "    df_1y2yHY=df_1y2yHY,\n",
    "    bond_mtm=bond_mtm,\n",
    "    face_value=face_value,\n",
    "    issuers_num=issuers_num,\n",
    "    mc_simulations=mc_simulations,\n",
    "    only_default=False,\n",
    "    seed=seed\n",
    ")[0]\n",
    "\n",
    "print(f\"VaR  with defaults and downgrades: with 0.3 correlation : €{VaRex5b:,.2f}\")"
   ],
   "outputs": [
    {
     "name": "stdout",
     "output_type": "stream",
     "text": [
      "VaR  with defaults and downgrades: with 0.3 correlation : €10,060,951.75\n"
     ]
    }
   ],
   "execution_count": 8
  },
  {
   "cell_type": "code",
   "metadata": {
    "ExecuteTime": {
     "end_time": "2025-05-19T01:04:23.381128Z",
     "start_time": "2025-05-19T01:04:20.978537Z"
    }
   },
   "source": [
    "import matplotlib.pyplot as plt\n",
    "\n",
    "plt.figure()\n",
    "plt.hist(loss, bins=250, density=True)\n",
    "plt.title(\"Loss distribution\")"
   ],
   "outputs": [
    {
     "data": {
      "text/plain": [
       "Text(0.5, 1.0, 'Loss distribution')"
      ]
     },
     "execution_count": 9,
     "metadata": {},
     "output_type": "execute_result"
    },
    {
     "data": {
      "text/plain": [
       "<Figure size 640x480 with 1 Axes>"
      ],
      "image/png": "[encoded data removed]"
     },
     "metadata": {},
     "output_type": "display_data"
    }
   ],
   "execution_count": 9
  },
  {
   "metadata": {
    "ExecuteTime": {
     "end_time": "2025-05-19T01:04:23.412860Z",
     "start_time": "2025-05-19T01:04:23.400971Z"
    }
   },
   "cell_type": "code",
   "source": "",
   "outputs": [],
   "execution_count": null
  },
  {
   "metadata": {
    "ExecuteTime": {
     "end_time": "2025-05-19T01:05:10.857602Z",
     "start_time": "2025-05-19T01:04:23.536434Z"
    }
   },
   "cell_type": "code",
   "source": [
    "# Q7: Adjusting the Model for Lower Recovery Rate in Case of Downgrade\n",
    "\n",
    "# Set recovery rates: 40% for default, 10% for downgrade\n",
    "recovery_rate1=0.4\n",
    "recovery_rate2=0.1\n",
    "# Compute forward discount factor from 1Y to 2Y\n",
    "frwdisc1y2y = df_expiry[4] / df_expiry[2]\n",
    "# Compute the 0-0.5-year forward discount factor\n",
    "frwdis6mesi = df_expiry[1]\n",
    "# Compute the 1-year discount factor considering default probability and recovery\n",
    "df_1y_def = (1 - transition_matrix.loc[\"IG\", \"Def\"]) * df_expiry[2] + transition_matrix.loc[\"IG\", \"Def\"] * df_expiry[1] * recovery_rate1\n",
    "# Compute DF(1y→2y | IG)\n",
    "df_1y2ydef = (1 - transition_matrix.loc[\"IG\", \"Def\"]) * frwdisc1y2y + transition_matrix.loc[\"IG\", \"Def\"] * (df_expiry[3] / df_expiry[2]) * recovery_rate1\n",
    "# Forward discount factor 1Y→2Y assuming issuer is downgraded to HY (with lower recovery)\n",
    "df_1y2yHY  = (1 - transition_matrix.loc[\"HY\", \"Def\"]) * frwdisc1y2y + transition_matrix.loc[\"HY\", \"Def\"] * (df_expiry[3] / df_expiry[2]) * recovery_rate2\n",
    "# Compute expected 2Y discount factor from IG issuers, accounting for all transitions\n",
    "df_2y_def  = (\n",
    "        transition_matrix.loc[\"IG\", \"IG\"] * df_expiry[2] * df_1y2ydef +\n",
    "        transition_matrix.loc[\"IG\", \"HY\"] * df_expiry[2] * df_1y2yHY +\n",
    "        transition_matrix.loc[\"IG\", \"Def\"] * df_expiry[1] * recovery_rate1\n",
    ")\n",
    "# Compute the current mark-to-market of a single bond\n",
    "bond_mtm    = df_2y_def * face_value\n",
    "# Compute MtM of the entire portfolio (100 bonds)\n",
    "ptf_mtm =bond_mtm*issuers_num\n",
    "\n",
    "# --- Bisection Method to Find rho such that VaR Matches the Baseline Scenario ---\n",
    "target_VaR = VaRex4d  # Target VaR\n",
    "tol_VaR = 1e3            # Tolerance on VaR (1000 EUR)\n",
    "tol_rho = 1e-4           # Tolerance on rho\n",
    "max_iter = 50\n",
    "\n",
    "# Bisection bounds\n",
    "rho_low = 0.0\n",
    "rho_high = 1.0\n",
    "\n",
    "# Track the best candidate values\n",
    "best_rho = None\n",
    "best_diff = float('inf')\n",
    "best_VaR = None\n",
    "\n",
    "for i in range(max_iter):\n",
    "    rho_mid = (rho_low + rho_high) / 2\n",
    "    # Compute VaR using modified recovery and current rho\n",
    "    VaR_mid = compute_VaR_for_rho(rho_mid, transition_matrix,\n",
    "            df_expiry[2], recovery_rate1, frwdis6mesi,\n",
    "            df_1y2ydef, df_1y2yHY, bond_mtm, face_value,\n",
    "            issuers_num, mc_simulations, seed)[0]\n",
    "\n",
    "    diff = VaR_mid - target_VaR\n",
    "\n",
    "    # Update best candidate if closer to target\n",
    "    if abs(diff) < abs(best_diff):\n",
    "        best_diff = diff\n",
    "        best_rho = rho_mid\n",
    "        best_VaR = VaR_mid\n",
    "\n",
    "    print(f\"Iteration {i+1}: rho = {rho_mid:.5f}, VaR = {VaR_mid:,.2f}, diff = {diff:,.2f}\")\n",
    "\n",
    "    # Check stopping condition\n",
    "    if abs(diff) < tol_VaR or (rho_high - rho_low) < tol_rho:\n",
    "        break\n",
    "\n",
    "    # Adjust bisection interval based on sign of difference\n",
    "    if diff > 0:\n",
    "        # VaR too high → decrease rho\n",
    "        rho_high = rho_mid\n",
    "    else:\n",
    "        # VaR too low → increase rho\n",
    "        rho_low = rho_mid\n",
    "\n",
    "print(\"\\n--- Risultato finale ---\")\n",
    "print(f\"rho trovato: {best_rho:.5f} con VaR = {best_VaR:,.2f} (diff = {best_diff:,.2f})\")"
   ],
   "outputs": [
    {
     "name": "stdout",
     "output_type": "stream",
     "text": [
      "Iteration 1: rho = 0.50000, VaR = 16,467,800.22, diff = 10,405,780.86\n",
      "Iteration 2: rho = 0.25000, VaR = 9,073,424.39, diff = 3,011,405.03\n",
      "Iteration 3: rho = 0.12500, VaR = 5,709,396.10, diff = -352,623.26\n",
      "Iteration 4: rho = 0.18750, VaR = 7,401,002.72, diff = 1,338,983.36\n",
      "Iteration 5: rho = 0.15625, VaR = 6,561,627.05, diff = 499,607.69\n",
      "Iteration 6: rho = 0.14062, VaR = 6,125,919.09, diff = 63,899.74\n",
      "Iteration 7: rho = 0.13281, VaR = 5,920,822.44, diff = -141,196.92\n",
      "Iteration 8: rho = 0.13672, VaR = 6,029,798.40, diff = -32,220.96\n",
      "Iteration 9: rho = 0.13867, VaR = 6,061,838.63, diff = -180.73\n",
      "\n",
      "--- Risultato finale ---\n",
      "rho trovato: 0.13867 con VaR = 6,061,838.63 (diff = -180.73)\n"
     ]
    }
   ],
   "execution_count": 10
  },
  {
   "metadata": {
    "ExecuteTime": {
     "end_time": "2025-05-19T01:05:16.932070Z",
     "start_time": "2025-05-19T01:05:10.881420Z"
    }
   },
   "cell_type": "code",
   "source": [
    "# Check that the found rho reproduces the target VaR\n",
    "\n",
    "rho_check=0.13867\n",
    "recovery_rate1=0.4\n",
    "recovery_rate2=0.1\n",
    "# Forward discount factor from 1Y to 2Y\n",
    "frwdisc1y2y = df_expiry[4] / df_expiry[2]\n",
    "# Compute the 0-0.5-year forward discount factor\n",
    "frwdis6mesi = df_expiry[1]\n",
    "# Discount factor for 1Y bond accounting for default (recovery = 40%)\n",
    "df_1y_def = (1 - transition_matrix.loc[\"IG\", \"Def\"]) * df_expiry[2] + transition_matrix.loc[\"IG\", \"Def\"] * df_expiry[1] * recovery_rate1\n",
    "# Forward discount factor 1Y→2Y assuming IG at t=1\n",
    "df_1y2ydef = (1 - transition_matrix.loc[\"IG\", \"Def\"]) * frwdisc1y2y + transition_matrix.loc[\"IG\", \"Def\"] * (df_expiry[3] / df_expiry[2]) * recovery_rate1\n",
    "# Forward discount factor 1Y→2Y assuming HY at t=1 with downgraded recovery\n",
    "df_1y2yHY  = (1 - transition_matrix.loc[\"HY\", \"Def\"]) * frwdisc1y2y + transition_matrix.loc[\"HY\", \"Def\"] * (df_expiry[3] / df_expiry[2]) * recovery_rate2\n",
    "# Compute expected 2Y discount factor from IG path with updated recovery assumptions\n",
    "df_2y_def  = (\n",
    "        transition_matrix.loc[\"IG\", \"IG\"] * df_expiry[2] * df_1y2ydef +\n",
    "        transition_matrix.loc[\"IG\", \"HY\"] * df_expiry[2] * df_1y2yHY +\n",
    "        transition_matrix.loc[\"IG\", \"Def\"] * df_expiry[1] * recovery_rate1\n",
    ")\n",
    "\n",
    "bond_mtm    = df_2y_def * face_value\n",
    "ptf_mtm =bond_mtm*issuers_num\n",
    "\n",
    "# return VaR_ex, avgdefault, avgdowngrade, lossexd\n",
    "VaRex4d_check, avgdefault, avgdowngrade, lossexd  = compute_VaR_for_rho(\n",
    "    rho=rho_check,\n",
    "    transition_matrix=transition_matrix,\n",
    "    df_expiry=df_expiry[2],\n",
    "    recovery_rate=recovery_rate1,\n",
    "    frwdis6mesi=frwdis6mesi,\n",
    "    df_1y2ydef=df_1y2ydef,\n",
    "    df_1y2yHY=df_1y2yHY,\n",
    "    bond_mtm=bond_mtm,\n",
    "    face_value=face_value,\n",
    "    issuers_num=issuers_num,\n",
    "    mc_simulations=mc_simulations,\n",
    "    only_default=False,\n",
    "    seed=seed\n",
    ")\n",
    "\n",
    "print(f\"Average default: {avgdefault}\")\n",
    "print(f\"Average downgrade: {avgdowngrade}\")\n",
    "\n",
    "print(f\"VaR with defaults and downgrades: €{VaRex4d_check:,.2f}\")"
   ],
   "outputs": [
    {
     "name": "stdout",
     "output_type": "stream",
     "text": [
      "Average default: 2.001207\n",
      "Average downgrade: 24.989608\n",
      "VaR with defaults and downgrades: €6,061,838.63\n"
     ]
    }
   ],
   "execution_count": 11
  },
  {
   "metadata": {
    "ExecuteTime": {
     "end_time": "2025-05-19T01:05:17.054070Z",
     "start_time": "2025-05-19T01:05:17.044307Z"
    }
   },
   "cell_type": "code",
   "source": "",
   "outputs": [],
   "execution_count": null
  },
  {
   "metadata": {
    "ExecuteTime": {
     "end_time": "2025-05-19T01:06:15.809087Z",
     "start_time": "2025-05-19T01:05:17.201569Z"
    }
   },
   "cell_type": "code",
   "source": [
    "# Create a vector of rho values from 0 to 1\n",
    "rho_values = np.linspace(0, 1, 10)\n",
    "# Compute the corresponding VaR for each rho\n",
    "VaR_values= [compute_VaR_for_rho(rho2, transition_matrix,\n",
    "            df_expiry[2], recovery_rate2, frwdis6mesi,\n",
    "            df_1y2ydef, df_1y2yHY, bond_mtm, face_value,\n",
    "            issuers_num, mc_simulations,False, seed)[0] for rho2 in rho_values]\n",
    "\n",
    "# Plot the results\n",
    "plt.figure(figsize=(8,6))\n",
    "plt.plot(rho_values, VaR_values, marker='o', linestyle='-', color='blue')\n",
    "plt.xlabel('ρ (rho)')\n",
    "plt.ylabel('VaR')\n",
    "plt.title('Variazione del VaR al variare di ρ')\n",
    "plt.grid(True)\n",
    "plt.show()"
   ],
   "outputs": [
    {
     "data": {
      "text/plain": [
       "<Figure size 800x600 with 1 Axes>"
      ],
      "image/png": "[encoded data removed]"
     },
     "metadata": {},
     "output_type": "display_data"
    }
   ],
   "execution_count": 12
  },
  {
   "metadata": {
    "ExecuteTime": {
     "end_time": "2025-05-19T01:06:15.840596Z",
     "start_time": "2025-05-19T01:06:15.832821Z"
    }
   },
   "cell_type": "code",
   "source": [
    "% Final Project Group 4.A\n",
    "%\n",
    "% AY2024-2025\n",
    "%\n",
    "% Federico Favali\n",
    "% Amirreza Khajouei\n",
    "%\n",
    "\n",
    "% Clear workspace and close all figures\n",
    "clear\n",
    "close all\n",
    "clc\n",
    "warning('off', 'all')\n",
    "format long\n",
    "\n",
    "%%\n",
    "\n",
    "% Joint migration matrix from CreditMetrics Table 8.2\n",
    "% Rows: Final rating of BBB-rated firm\n",
    "% Columns: Final rating of A-rated firm\n",
    "% Ratings: AAA, AA, A, BBB, BB, B, CCC, Default\n",
    "\n",
    "% load joint credit movements matrix\n",
    "load joint_counts.mat\n",
    "\n",
    "% total number of cases\n",
    "N=sum(sum(joint_counts));\n",
    "\n",
    "% Historically tabulated joint credit quality co-movement\n",
    "empirical_joint_prob=joint_counts/N;\n",
    "\n",
    "% probability of a firm with initial rating A to go in x in 3 months\n",
    "marginal_A = sum(empirical_joint_prob, 1);    % sum over rows\n",
    "% probability of a firm with initial rating BBB to go in x in 3 months\n",
    "marginal_BBB = sum(empirical_joint_prob, 2);  % sum over columns\n",
    "\n",
    "\n",
    "% Cumulative distributions\n",
    "cdf_A = cumsum(marginal_A);        % 1×8\n",
    "cdf_BBB = cumsum(marginal_BBB);    % 8×1\n",
    "z_A = [-Inf, norminv(cdf_A)];       % 1×9: thresholds for A\n",
    "z_BBB = [-Inf; norminv(cdf_BBB)];   % 9×1: thresholds for BBB\n",
    "\n",
    "\n",
    "% bivariate_normal_cdf = @(x, y, rho) mvncdf([x, y], [0, 0], [1, rho; rho, 1]);\n",
    "\n",
    "% modes = {'MSE', 'MAE', 'likelihood','KL','JSD'};\n",
    "% P_results = cell(length(modes),1);\n",
    "%\n",
    "% % modes = {'MSE', 'MAE', 'likelihood', 'weighted_MAE'};\n",
    "% % modes = {'weighted_MAE'};\n",
    "% for i = 1:length(modes)\n",
    "%     mode = modes{i};\n",
    "%     [calibrated_rho, loss_value] = calibrate_rho(empirical_joint_prob, z_BBB, z_A, mode);\n",
    "%     % plot_objective_function(empirical_joint_prob, z_BBB, z_A, mode);\n",
    "% end\n",
    "%%\n",
    "modes = {'MSE', 'MAE', 'likelihood','KL','JSD','weighted MAE','weighted MSE'};\n",
    "P_results = cell(length(modes), 1);\n",
    "\n",
    "for i = 1:length(modes)\n",
    "    mode = modes{i};\n",
    "\n",
    "    [calibrated_rho, loss_value] = calibrate_rho(empirical_joint_prob, z_BBB, z_A, mode);\n",
    "\n",
    "    % Save the results in a struct\n",
    "    P_results{i} = struct( ...\n",
    "        'mode', mode, ...\n",
    "        'rho', calibrated_rho, ...\n",
    "        'loss', loss_value ...\n",
    "    );\n",
    "\n",
    "    % Print the result\n",
    "    fprintf('Mode: %-12s | Calibrated ρ(3m) = %.6f | Loss = %.8e\\n', mode, calibrated_rho, loss_value);\n",
    "\n",
    "    plot_objective_function(empirical_joint_prob, z_BBB, z_A, mode);\n",
    "end\n",
    "\n",
    "% Put rhos values in a vector\n",
    "rhos = cellfun(@(s) s.rho, P_results);\n",
    "\n",
    "\n"
   ],
   "outputs": [],
   "execution_count": null
  },
  {
   "metadata": {},
   "cell_type": "code",
   "outputs": [],
   "execution_count": null,
   "source": [
    "function [calibrated_rho, loss_value] = calibrate_rho(observed_joint_probs, z_BBB, z_A, mode)\n",
    "    rho_min = 0;\n",
    "    % rho_max = 1;\n",
    "    rho_max=0.15;\n",
    "    objective = @(rho) loss_function(rho, observed_joint_probs, z_BBB, z_A, mode);\n",
    "\n",
    "    num_grid_points = 200;\n",
    "    grid_rhos = linspace(rho_min + 0.01, rho_max - 0.01, num_grid_points);\n",
    "    grid_losses = zeros(size(grid_rhos));\n",
    "\n",
    "    for i = 1:num_grid_points\n",
    "        grid_losses(i) = objective(grid_rhos(i));\n",
    "    end\n",
    "    [min_grid_loss, min_idx] = min(grid_losses);\n",
    "    best_grid_rho = grid_rhos(min_idx);\n",
    "\n",
    "    % Use the grid minimum as starting point for fmincon\n",
    "    rho0 = best_grid_rho;\n",
    "\n",
    "    % fmincon options\n",
    "    opts = optimoptions('fmincon', 'Display','none', 'TolX', 1e-8, 'TolFun', 1e-10);\n",
    "\n",
    "    % Run fmincon using the best grid point as initial guess\n",
    "    [calibrated_rho, loss_value] = fmincon( ...\n",
    "        objective, rho0, ...     % Objective function and initial rho\n",
    "        [], [], [], [], ...      % No linear constraints\n",
    "        rho_min, rho_max, ...    % Lower and upper bounds on rho\n",
    "        [], opts);               % No nonlinear constraints, custom options\n",
    "\n",
    "    %%\n",
    "\n",
    "\n",
    "    % Check if fmincon actually improved the result\n",
    "    if loss_value > min_grid_loss\n",
    "        warning('fmincon did not improve on the grid search result. Using grid result instead.');\n",
    "        calibrated_rho = best_grid_rho;\n",
    "        loss_value = min_grid_loss;\n",
    "    end\n",
    "\n",
    "\n",
    "end"
   ]
  },
  {
   "metadata": {},
   "cell_type": "code",
   "outputs": [],
   "execution_count": null,
   "source": [
    "function loss = loss_function(rho, observed_joint_probs, z_BBB, z_A, mode)\n",
    "    theoretical_probs = calculate_theoretical_joint_probs(z_BBB, z_A, rho);\n",
    "\n",
    "    switch mode\n",
    "        case 'MSE'\n",
    "            loss = sum(sum((theoretical_probs - observed_joint_probs).^2));\n",
    "\n",
    "        case 'MAE'\n",
    "            loss = sum(sum(abs(theoretical_probs - observed_joint_probs)));\n",
    "\n",
    "        case 'likelihood'\n",
    "            epsilon = 1e-10;\n",
    "            mask = observed_joint_probs > 0;\n",
    "            log_likelihood = sum(observed_joint_probs(mask) .* log(theoretical_probs(mask) + epsilon));\n",
    "            loss = -log_likelihood;\n",
    "\n",
    "        case 'KL'\n",
    "            epsilon = 1e-10;\n",
    "            % Avoid division by zero and log(0)\n",
    "            P = observed_joint_probs(:);\n",
    "            Q = max(theoretical_probs(:), epsilon);\n",
    "\n",
    "            mask = P > 0;  % Only compute where observed > 0\n",
    "            loss = sum(P(mask) .* log(P(mask) ./ Q(mask)));\n",
    "        case 'JSD'\n",
    "            % Jensen–Shannon divergence\n",
    "            epsilon = 1e-10;\n",
    "            P = observed_joint_probs(:);\n",
    "            Q = theoretical_probs(:);\n",
    "            % ensure no zeros\n",
    "            Q = max(Q, epsilon);\n",
    "            M = 0.5 * (P + Q);\n",
    "            mask = M > 0;  % only where M>0\n",
    "            % D_JS = ½ KL(P||M) + ½ KL(Q||M)\n",
    "            D1 = sum(P(mask) .* log((P(mask) + epsilon) ./ (M(mask) + epsilon)));\n",
    "            D2 = sum(Q(mask) .* log((Q(mask) + epsilon) ./ (M(mask) + epsilon)));\n",
    "            loss = 0.5 * (D1 + D2);\n",
    "\n",
    "        case 'weighted MSE'\n",
    "            [i_idx, j_idx] = ndgrid(1:8, 1:8);\n",
    "            weights = i_idx + j_idx;\n",
    "            % Calculate weighted MSE\n",
    "            squared_errors = (theoretical_probs - observed_joint_probs).^2;\n",
    "            weighted_errors = weights .* squared_errors;\n",
    "            loss = sum(sum(weighted_errors));\n",
    "\n",
    "        case 'weighted MAE'\n",
    "            [i_idx, j_idx] = ndgrid(1:8, 1:8);\n",
    "            weights = i_idx + j_idx;\n",
    "            errors = abs(theoretical_probs - observed_joint_probs);\n",
    "            weighted_errors = weights .* errors;\n",
    "            loss = sum(sum(weighted_errors));\n",
    "        otherwise\n",
    "            error('Unsupported loss function');\n",
    "    end\n",
    "end"
   ]
  },
  {
   "metadata": {},
   "cell_type": "code",
   "outputs": [],
   "execution_count": null,
   "source": [
    "function joint_probs = calculate_theoretical_joint_probs(z_BBB, z_A, rho)\n",
    "    % Create matrices for all combinations of indices\n",
    "    [I, J] = ndgrid(1:8, 1:8);\n",
    "\n",
    "    % Get the z values for all combinations\n",
    "    z_BBB_i = z_BBB(I);\n",
    "    z_BBB_i_plus_1 = z_BBB(I+1);\n",
    "    z_A_j = z_A(J);\n",
    "    z_A_j_plus_1 = z_A(J+1);\n",
    "\n",
    "    % Create correlation matrix for mvncdf\n",
    "    corr_matrix = [1 rho; rho 1];\n",
    "    mu = [0, 0];\n",
    "\n",
    "    % For MATLAB's mvncdf\n",
    "\n",
    "    P11 = reshape(mvncdf([z_BBB_i_plus_1(:), z_A_j_plus_1(:)], mu, corr_matrix), size(I));\n",
    "    P10 = reshape(mvncdf([z_BBB_i_plus_1(:), z_A_j(:)], mu, corr_matrix), size(I));\n",
    "    P01 = reshape(mvncdf([z_BBB_i(:), z_A_j_plus_1(:)], mu, corr_matrix), size(I));\n",
    "    P00 = reshape(mvncdf([z_BBB_i(:), z_A_j(:)], mu, corr_matrix), size(I));\n",
    "\n",
    "    % Calculate the final probabilities matrix\n",
    "    joint_probs = P11 - P10 - P01 + P00;\n",
    "end"
   ]
  }
 ],
 "metadata": {
  "kernelspec": {
   "display_name": "Python 3",
   "language": "python",
   "name": "python3"
  },
  "language_info": {
   "codemirror_mode": {
    "name": "ipython",
    "version": 3
   },
   "file_extension": ".py",
   "mimetype": "text/x-python",
   "name": "python",
   "nbconvert_exporter": "python",
   "pygments_lexer": "ipython3",
   "version": "3.13.2"
  }
 },
 "nbformat": 4,
 "nbformat_minor": 2
}
