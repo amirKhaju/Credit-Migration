{
 "cells": [
  {
   "cell_type": "markdown",
   "metadata": {},
   "source": [
    "# Mathematical Engineering - Financial Engineering, FY 2024-2025\n",
    "# Final Project\n"
   ]
  },
  {
   "cell_type": "code",
   "metadata": {
    "ExecuteTime": {
     "end_time": "2025-05-26T22:04:48.770797Z",
     "start_time": "2025-05-26T22:04:47.539002Z"
    }
   },
   "source": [
    "# Importing the libraries\n",
    "\n",
    "%reset -f\n",
    "import numpy as np\n",
    "import pandas as pd\n",
    "\n",
    "from scipy.stats import norm\n",
    "from boot import bootstrap\n",
    "from project_functions import (\n",
    "    compute_VaR_for_rho,\n",
    "    business_date_offset,\n",
    "    getDiscount,\n",
    "    calibrate_rho\n",
    ")"
   ],
   "outputs": [],
   "execution_count": 17
  },
  {
   "metadata": {
    "ExecuteTime": {
     "end_time": "2025-05-26T22:04:48.849959Z",
     "start_time": "2025-05-26T22:04:48.783869Z"
    }
   },
   "cell_type": "code",
   "source": [
    "\n",
    "# Joint migration matrix\n",
    "joint_counts = pd.DataFrame(\n",
    "    {\n",
    "        'AAA':     [0, 0, 0, 0, 0, 0, 0, 0],\n",
    "        'AA':      [0, 15, 978, 12436, 839, 175, 55, 29],\n",
    "        'A':       [0, 1105, 44523, 621477, 41760, 7081, 2230, 981],\n",
    "        'BBB':     [0, 54, 2812, 40584, 2921, 532, 127, 67],\n",
    "        'BB':      [0, 4, 414, 5075, 321, 76, 18, 7],\n",
    "        'B':       [0, 0, 224, 2507, 193, 48, 15, 0],\n",
    "        'CCC':     [0, 0, 0, 0, 0, 0, 0, 0],\n",
    "        'Default': [0, 0, 0, 0, 0, 0, 0, 0]\n",
    "    },\n",
    "    index=['AAA', 'AA', 'A', 'BBB', 'BB', 'B', 'CCC', 'Default']\n",
    ")\n",
    "\n",
    "# total number of cases\n",
    "N = joint_counts.values.sum()\n",
    "\n",
    "# Historically tabulated joint credit quality co-movement\n",
    "empirical_joint_prob=joint_counts/N\n",
    "\n",
    "marginal_A = empirical_joint_prob.sum(axis=0).values  # somma righe\n",
    "marginal_BBB = empirical_joint_prob.sum(axis=1).values  # somma colonne\n",
    "\n",
    "# CDF e soglie z\n",
    "cdf_A = np.cumsum(marginal_A)\n",
    "cdf_BBB = np.cumsum(marginal_BBB)\n",
    "z_A = np.concatenate(([-np.inf], norm.ppf(cdf_A)))\n",
    "z_BBB = np.concatenate(([-np.inf], norm.ppf(cdf_BBB)))"
   ],
   "outputs": [],
   "execution_count": 18
  },
  {
   "metadata": {
    "ExecuteTime": {
     "end_time": "2025-05-26T22:05:03.916511Z",
     "start_time": "2025-05-26T22:04:48.968461Z"
    }
   },
   "cell_type": "code",
   "source": [
    "modes = ['MSE', 'MAE', 'likelihood', 'KL', 'JSD', 'weighted MAE', 'weighted MSE']\n",
    "\n",
    "# modes = ['MSE']\n",
    "\n",
    "P_results = []\n",
    "\n",
    "for mode in modes:\n",
    "    rho, loss = calibrate_rho(empirical_joint_prob.values, z_BBB, z_A, mode)\n",
    "\n",
    "    result = {\n",
    "        'mode': mode,\n",
    "        'rho': rho,\n",
    "        'loss': loss\n",
    "    }\n",
    "    P_results.append(result)\n",
    "\n",
    "    print(f\"Mode: {mode:<15} | Calibrated ρ(3m) = {rho:.6f} | Loss = {loss:.8e}\")\n",
    "\n",
    "# Estrai tutti i valori di ρ in un array numpy\n",
    "rhos = np.array([res['rho'] for res in P_results])\n"
   ],
   "outputs": [
    {
     "name": "stdout",
     "output_type": "stream",
     "text": [
      "Mode: MSE             | Calibrated ρ(3m) = 0.013835 | Loss = 2.78983224e-07\n",
      "Mode: MAE             | Calibrated ρ(3m) = 0.017707 | Loss = 1.84677172e-03\n",
      "Mode: likelihood      | Calibrated ρ(3m) = 0.007073 | Loss = 9.31956788e-01\n",
      "Mode: KL              | Calibrated ρ(3m) = 0.007073 | Loss = 6.52646623e-05\n",
      "Mode: JSD             | Calibrated ρ(3m) = 0.007172 | Loss = 1.71080803e-05\n",
      "Mode: weighted MAE    | Calibrated ρ(3m) = 0.020228 | Loss = 1.43237602e-02\n",
      "Mode: weighted MSE    | Calibrated ρ(3m) = 0.015097 | Loss = 2.00407924e-06\n"
     ]
    }
   ],
   "execution_count": 20
  },
  {
   "metadata": {
    "ExecuteTime": {
     "end_time": "2025-05-26T22:05:04.049176Z",
     "start_time": "2025-05-26T22:05:03.958704Z"
    }
   },
   "cell_type": "code",
   "source": [
    "\n",
    "def extract_data(file_path):\n",
    "    df_cleaned = pd.read_excel(file_path, sheet_name=\"Sheet1\")\n",
    "\n",
    "    # Extraction of dates\n",
    "\n",
    "    settlement_date = df_cleaned.iloc[6, 4]\n",
    "    depos_dates = df_cleaned.iloc[9:15, 3].tolist()\n",
    "    futures_dates = df_cleaned.iloc[10:19, 16:18].values.tolist()\n",
    "    swaps_dates = df_cleaned.iloc[37:54, 3].tolist()\n",
    "\n",
    "    # Extraction of deposit rates\n",
    "    depos_rates = df_cleaned.iloc[9:15, 7:9].values\n",
    "    depos_rates = np.array(depos_rates, dtype=np.float64) / 100  # Conversion to float\n",
    "\n",
    "    # Extraction of futures rates\n",
    "    futures_rates = df_cleaned.iloc[26:35, 7:9].values\n",
    "    futures_rates = np.array(futures_rates, dtype=np.float64) / 100  # Conversion to float\n",
    "\n",
    "    # Extraction of swap rates\n",
    "    swaps_rates = df_cleaned.iloc[37:54, 7:9].values\n",
    "    swaps_rates = np.array(swaps_rates, dtype=np.float64) / 100  # Conversion to float\n",
    "\n",
    "    return {\n",
    "        \"settlement_date\": settlement_date,\n",
    "        \"depos_dates\": depos_dates,\n",
    "        \"futures_dates\": futures_dates,\n",
    "        \"swaps_dates\": swaps_dates,\n",
    "        \"depos_rates\": depos_rates,\n",
    "        \"futures_rates\": futures_rates,\n",
    "        \"swaps_rates\": swaps_rates\n",
    "    }\n",
    "\n",
    "# Extract from file excel\n",
    "file_path = \"MktData_CurveBootstrap.xls\"\n",
    "data = extract_data(file_path)\n",
    "\n",
    "\n",
    "#  Create the `dates_set` dictionary containing the extracted dates\n",
    "dates_set = {\n",
    "    'settlement': data['settlement_date'],\n",
    "    'depos': data['depos_dates'],\n",
    "    'futures': data['futures_dates'],\n",
    "    'swaps': data['swaps_dates']\n",
    "}\n",
    "# Create the `rates_set` dictionary containing the extracted rates\n",
    "rates_set = {\n",
    "    'depos': data['depos_rates'],\n",
    "    'futures': data['futures_rates'],\n",
    "    'swaps': data['swaps_rates']\n",
    "}\n",
    "\n",
    "# Calculate dates and discounts with bootstrap\n",
    "dates, discounts = bootstrap(dates_set, rates_set)\n",
    "\n",
    "today = pd.to_datetime('2023-02-02')"
   ],
   "outputs": [],
   "execution_count": 21
  },
  {
   "metadata": {
    "ExecuteTime": {
     "end_time": "2025-05-26T22:05:04.127790Z",
     "start_time": "2025-05-26T22:05:04.101080Z"
    }
   },
   "cell_type": "code",
   "source": [
    "# Point 2\n",
    "# Parameters\n",
    "issuers_num_A = 50  # Number of bonds in the portfolio with initial rating A\n",
    "issuers_num_BBB = 50  # Number of bonds in the portfolio with initial rating BBB\n",
    "\n",
    "recovery_rate = 0.4     # Recovery rate in the event of default\n",
    "face_value = 1  # Face value of each bond\n",
    "\n",
    "mc_simulations = 1_000_000  # Number of Monte Carlo simulation scenarios\n",
    "\n",
    "# Generate payment dates\n",
    "datepag=[business_date_offset(today, month_offset=6*i) for i in range(0,5)]\n",
    "\n",
    "transition_matrix = pd.DataFrame(\n",
    "    [\n",
    "        [0.9005, 0.0918, 0.0055, 0.0005, 0.0008, 0.0003, 0.0005, 0.0000],  # from AAA\n",
    "        [0.0057, 0.9006, 0.0861, 0.0058, 0.0006, 0.0007, 0.0002, 0.0002],  # from AA\n",
    "        [0.0003, 0.0196, 0.9165, 0.0575, 0.0037, 0.0015, 0.0002, 0.0007],  # from A\n",
    "        [0.0001, 0.0013, 0.0383, 0.9096, 0.0408, 0.0063, 0.0014, 0.0022],  # from BBB\n",
    "        [0.0002, 0.0004, 0.0017, 0.0576, 0.8450, 0.0785, 0.0076, 0.0089],  # from BB\n",
    "        [0.0000, 0.0003, 0.0012, 0.0025, 0.0621, 0.8368, 0.0505, 0.0465],  # from B\n",
    "        [0.0000, 0.0000, 0.0018, 0.0027, 0.0081, 0.1583, 0.5140, 0.3152],  # from CCC\n",
    "        [0.0000, 0.0000, 0.0000, 0.0000, 0.0000, 0.0000, 0.0000, 1.0000],  # from Default\n",
    "    ],\n",
    "    index=[\"AAA\", \"AA\", \"A\", \"BBB\", \"BB\", \"B\", \"CCC\", \"Def\"],\n",
    "    columns=[\"AAA\", \"AA\", \"A\", \"BBB\", \"BB\", \"B\", \"CCC\", \"Def\"]\n",
    ")\n"
   ],
   "outputs": [],
   "execution_count": 22
  },
  {
   "cell_type": "code",
   "metadata": {
    "ExecuteTime": {
     "end_time": "2025-05-26T22:05:04.207518Z",
     "start_time": "2025-05-26T22:05:04.179414Z"
    }
   },
   "source": [
    "# Compute discount factors for the payment dates of the bond\n",
    "df_expiry = getDiscount(dates, discounts,datepag)\n",
    "\n",
    "# Extract the discount factor at the bond's final maturity\n",
    "discexp=df_expiry[-1]\n",
    "print(df_expiry)"
   ],
   "outputs": [
    {
     "name": "stdout",
     "output_type": "stream",
     "text": [
      "[1.         0.98559455 0.96830131 0.9526023  0.93889301]\n"
     ]
    }
   ],
   "execution_count": 23
  },
  {
   "metadata": {
    "ExecuteTime": {
     "end_time": "2025-05-26T22:05:04.271228Z",
     "start_time": "2025-05-26T22:05:04.259230Z"
    }
   },
   "cell_type": "code",
   "source": [
    "# default prob 1 year (starting from x)\n",
    "pd_1y = transition_matrix.loc[\"AAA\":\"CCC\",\"Def\"]\n"
   ],
   "outputs": [],
   "execution_count": 24
  },
  {
   "metadata": {
    "ExecuteTime": {
     "end_time": "2025-05-26T22:05:04.359104Z",
     "start_time": "2025-05-26T22:05:04.329846Z"
    }
   },
   "cell_type": "code",
   "source": [
    "# We consider the default at the midpoint\n",
    "# Compute the forward discount factors\n",
    "frwdisc1y2y=df_expiry[4]/df_expiry[2]      # B(0;1,2)=B(0,2)/B(0,1)\n",
    "\n",
    "frwdisc1y_1y6m = df_expiry[3]/df_expiry[2]    # B(0;1,3/2) = B(0,3/2)/B(0,1)\n",
    "\n",
    "frwdis6mesi=df_expiry[1]        # B(0;0,1/2)=B(0,1/2)/B(0,0)\n",
    "\n",
    "# Compute the 1-year discount factor considering default probability and recovery\n",
    "df_1y_def_A = (1 - pd_1y[\"A\"]) * df_expiry[2] + pd_1y[\"A\"] * frwdis6mesi * recovery_rate\n",
    "df_1y_def_BBB = (1 - pd_1y[\"BBB\"]) * df_expiry[2] + pd_1y[\"BBB\"] * frwdis6mesi * recovery_rate\n",
    "\n",
    "# Compute DF(1y→2y | x)\n",
    "# where x can be AAA, AA, A, BBB, BB, B, CCC\n",
    "\n",
    "df_1y2ydef = (1-pd_1y)*frwdisc1y2y+pd_1y*frwdisc1y_1y6m*recovery_rate\n"
   ],
   "outputs": [],
   "execution_count": 25
  },
  {
   "metadata": {
    "ExecuteTime": {
     "end_time": "2025-05-26T22:05:04.483005Z",
     "start_time": "2025-05-26T22:05:04.442043Z"
    }
   },
   "cell_type": "code",
   "source": [
    "# Compute the expected discount factor at 2y, taking into account all rating transitions\n",
    "\n",
    "ratings_intermediate = [\"AAA\", \"AA\", \"A\", \"BBB\", \"BB\", \"B\", \"CCC\"]\n",
    "\n",
    "df_survival_A = transition_matrix.loc[\"A\", ratings_intermediate] @ (df_expiry[2] * df_1y2ydef)\n",
    "df_default_A = transition_matrix.loc[\"A\", \"Def\"] * df_expiry[1] * recovery_rate\n",
    "# Total expected discount factor at 2 years from initial rating \"A\"\n",
    "df_2y_def_A = df_survival_A + df_default_A\n",
    "\n",
    "df_survival_BBB = transition_matrix.loc[\"BBB\", ratings_intermediate] @ (df_expiry[2] * df_1y2ydef)\n",
    "df_default_BBB = transition_matrix.loc[\"BBB\", \"Def\"] * df_expiry[1] * recovery_rate\n",
    "# Total expected discount factor at 2 years from initial rating \"BBB\"\n",
    "df_2y_def_BBB = df_survival_BBB + df_default_BBB\n",
    "\n",
    "\n",
    "# Forward bond prices and portfolio mark-to-market\n",
    "fwd_price =df_1y2ydef*face_value\n",
    "\n",
    "# Current mark-to-market of a single 2y bond, accounting for credit risk and transitions\n",
    "bond_mtm_A = df_2y_def_A*face_value\n",
    "bond_mtm_BBB = df_2y_def_BBB*face_value\n",
    "\n",
    "# Mark-to-market of the entire portfolio (50 issuers A and 50 issuers BBB)\n",
    "ptf_mtm = bond_mtm_A*issuers_num_A+bond_mtm_BBB*issuers_num_BBB\n",
    "\n",
    "print(f\"Portfolio MtM: ${ptf_mtm:,.2f}\")\n"
   ],
   "outputs": [
    {
     "name": "stdout",
     "output_type": "stream",
     "text": [
      "Portfolio MtM: $93.70\n"
     ]
    }
   ],
   "execution_count": 26
  },
  {
   "cell_type": "code",
   "metadata": {
    "ExecuteTime": {
     "end_time": "2025-05-26T22:05:16.401752Z",
     "start_time": "2025-05-26T22:05:04.564952Z"
    }
   },
   "source": [
    "# Point 2.a\n",
    "\n",
    "# Convert rho from 3m to 1 year\n",
    "rho_annual=1-(1-rhos[6])**4\n",
    "\n",
    "seed=37      # Set random seed\n",
    "\n",
    "# Compute VaR\n",
    "VaR_ex2a, losses_ex2a, avgdowngrade_ex2a = compute_VaR_for_rho(\n",
    "    rho=rho_annual,\n",
    "    transition_matrix=transition_matrix,\n",
    "    df_1y2ydef=df_1y2ydef,\n",
    "    df_expiry=df_expiry,\n",
    "    bond_mtm_A=bond_mtm_A,\n",
    "    bond_mtm_BBB=bond_mtm_BBB,\n",
    "    face_value=face_value,\n",
    "    recovery_rate=recovery_rate,\n",
    "    mc_simulations=mc_simulations,\n",
    "    issuers_num_A=issuers_num_A,\n",
    "    issuers_num_BBB=issuers_num_BBB,\n",
    "    rho_A= 0,\n",
    "    rho_BBB= 0,\n",
    "    flag=1,  # use single rho for all\n",
    "    seed=seed\n",
    ")\n",
    "\n",
    "print(f\"VaR with constant rho (point 2.a): ${VaR_ex2a:,.2f}\")\n"
   ],
   "outputs": [
    {
     "name": "stdout",
     "output_type": "stream",
     "text": [
      "VaR with constant rho (point 2.a): $1.66\n"
     ]
    }
   ],
   "execution_count": 27
  },
  {
   "metadata": {
    "ExecuteTime": {
     "end_time": "2025-05-26T22:05:16.529427Z",
     "start_time": "2025-05-26T22:05:16.497469Z"
    }
   },
   "cell_type": "code",
   "source": [
    "avgdown_ex2a = pd.DataFrame(avgdowngrade_ex2a, index=[\"A-rated\", \"BBB-rated\"],\n",
    "                      columns=[\"AAA\", \"AA\", \"A\", \"BBB\", \"BB\", \"B\", \"CCC\", \"Def\"])\n",
    "print(\"Average downgrade:\")\n",
    "print(avgdown_ex2a)"
   ],
   "outputs": [
    {
     "name": "stdout",
     "output_type": "stream",
     "text": [
      "Average downgrade:\n",
      "                AAA        AA          A        BBB        BB         B  \\\n",
      "A-rated    0.015014  0.978362  45.822297   2.878046  0.185332  0.075490   \n",
      "BBB-rated  0.005028  0.065432   1.913973  45.477956  2.040528  0.316477   \n",
      "\n",
      "                CCC       Def  \n",
      "A-rated    0.010150  0.035309  \n",
      "BBB-rated  0.070208  0.110398  \n"
     ]
    }
   ],
   "execution_count": 28
  },
  {
   "metadata": {
    "ExecuteTime": {
     "end_time": "2025-05-26T22:05:25.633977Z",
     "start_time": "2025-05-26T22:05:16.658616Z"
    }
   },
   "cell_type": "code",
   "source": [
    "# Point 2.b\n",
    "\n",
    "def rho_function(prob_def):\n",
    "    S = 50  # 50 million annual sales\n",
    "    k = 50\n",
    "    return (\n",
    "        0.12 * (1 - np.exp(-k * prob_def)) / (1 - np.exp(-k))\n",
    "        + 0.24 * (1 - (1 - np.exp(-k * prob_def)) / (1 - np.exp(-k)))\n",
    "        - 0.04 * (1 - (S - 5) / 45)\n",
    "    )\n",
    "\n",
    "# Compute rho_A and rho_BBB\n",
    "rho_A = rho_function(pd_1y[\"A\"])\n",
    "rho_BBB = rho_function(pd_1y[\"BBB\"])\n",
    "\n",
    "# Compute VaR\n",
    "\n",
    "VaR_ex2b, losses_ex2b, avgdowngrade_ex2b = compute_VaR_for_rho(\n",
    "    rho=0.01,\n",
    "    transition_matrix=transition_matrix,\n",
    "    df_1y2ydef=df_1y2ydef,\n",
    "    df_expiry=df_expiry,\n",
    "    bond_mtm_A=bond_mtm_A,\n",
    "    bond_mtm_BBB=bond_mtm_BBB,\n",
    "    face_value=face_value,\n",
    "    recovery_rate=recovery_rate,\n",
    "    mc_simulations=mc_simulations,\n",
    "    issuers_num_A=issuers_num_A,\n",
    "    issuers_num_BBB=issuers_num_BBB,\n",
    "    rho_A= rho_A,\n",
    "    rho_BBB= rho_BBB,\n",
    "    flag=2,  # Use rho_A and rho_BBB\n",
    "    seed=seed\n",
    ")\n",
    "\n",
    "print(f\"VaR with constant rho (point 2.b): ${VaR_ex2b:,.2f}\")\n"
   ],
   "outputs": [
    {
     "name": "stdout",
     "output_type": "stream",
     "text": [
      "VaR with constant rho (point 2.b): $3.47\n"
     ]
    }
   ],
   "execution_count": 29
  },
  {
   "metadata": {
    "ExecuteTime": {
     "end_time": "2025-05-26T22:05:25.713722Z",
     "start_time": "2025-05-26T22:05:25.697703Z"
    }
   },
   "cell_type": "code",
   "source": [
    "avgdown_ex2b = pd.DataFrame(avgdowngrade_ex2b, index=[\"A-rated\", \"BBB-rated\"],\n",
    "                      columns=[\"AAA\", \"AA\", \"A\", \"BBB\", \"BB\", \"B\", \"CCC\", \"Def\"])\n",
    "print(\"Average downgrade:\")\n",
    "print(avgdown_ex2b)"
   ],
   "outputs": [
    {
     "name": "stdout",
     "output_type": "stream",
     "text": [
      "Average downgrade:\n",
      "                AAA        AA          A        BBB        BB         B  \\\n",
      "A-rated    0.014829  0.978963  45.819069   2.880345  0.186502  0.074864   \n",
      "BBB-rated  0.005030  0.065434   1.912845  45.477559  2.042169  0.315906   \n",
      "\n",
      "                CCC       Def  \n",
      "A-rated    0.010046  0.035382  \n",
      "BBB-rated  0.070364  0.110693  \n"
     ]
    }
   ],
   "execution_count": 30
  },
  {
   "metadata": {
    "ExecuteTime": {
     "end_time": "2025-05-26T22:05:26.595354Z",
     "start_time": "2025-05-26T22:05:25.761466Z"
    }
   },
   "cell_type": "code",
   "source": [
    "import matplotlib.pyplot as plt\n",
    "\n",
    "plt.figure(figsize=(10, 6))\n",
    "plt.hist(losses_ex2a, bins=250, density=True, color='skyblue', edgecolor='black')\n",
    "plt.title(\"Loss Distribution\", fontsize=14)\n",
    "plt.xlabel(\"Loss Amount\", fontsize=12)\n",
    "plt.ylabel(\"Density\", fontsize=12)\n",
    "plt.grid(True, linestyle='--', alpha=0.5)\n",
    "plt.tight_layout()\n",
    "plt.show()"
   ],
   "outputs": [
    {
     "data": {
      "text/plain": [
       "<Figure size 1000x600 with 1 Axes>"
      ],
      "image/png": "[encoded data removed]"
     },
     "metadata": {},
     "output_type": "display_data"
    }
   ],
   "execution_count": 31
  },
  {
   "metadata": {
    "ExecuteTime": {
     "end_time": "2025-05-26T22:05:27.335709Z",
     "start_time": "2025-05-26T22:05:26.732614Z"
    }
   },
   "cell_type": "code",
   "source": [
    "\n",
    "plt.figure(figsize=(10, 6))\n",
    "plt.hist(losses_ex2b, bins=250, density=True, color='skyblue', edgecolor='black')\n",
    "plt.title(\"Loss Distribution\", fontsize=14)\n",
    "plt.xlabel(\"Loss Amount\", fontsize=12)\n",
    "plt.ylabel(\"Density\", fontsize=12)\n",
    "plt.grid(True, linestyle='--', alpha=0.5)\n",
    "plt.tight_layout()\n",
    "plt.show()\n"
   ],
   "outputs": [
    {
     "data": {
      "text/plain": [
       "<Figure size 1000x600 with 1 Axes>"
      ],
      "image/png": "[encoded data removed]"
     },
     "metadata": {},
     "output_type": "display_data"
    }
   ],
   "execution_count": 32
  },
  {
   "metadata": {
    "ExecuteTime": {
     "end_time": "2025-05-26T22:05:27.367706Z",
     "start_time": "2025-05-26T22:05:27.351835Z"
    }
   },
   "cell_type": "code",
   "source": "",
   "outputs": [],
   "execution_count": null
  },
  {
   "metadata": {
    "ExecuteTime": {
     "end_time": "2025-05-26T22:05:27.456673Z",
     "start_time": "2025-05-26T22:05:27.445072Z"
    }
   },
   "cell_type": "code",
   "source": "",
   "outputs": [],
   "execution_count": null
  }
 ],
 "metadata": {
  "kernelspec": {
   "display_name": "Python 3",
   "language": "python",
   "name": "python3"
  },
  "language_info": {
   "codemirror_mode": {
    "name": "ipython",
    "version": 3
   },
   "file_extension": ".py",
   "mimetype": "text/x-python",
   "name": "python",
   "nbconvert_exporter": "python",
   "pygments_lexer": "ipython3",
   "version": "3.13.2"
  }
 },
 "nbformat": 4,
 "nbformat_minor": 2
}
